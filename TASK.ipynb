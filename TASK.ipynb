{
 "cells": [
  {
   "cell_type": "markdown",
   "metadata": {},
   "source": [
    "# ------------------------------SVM Task----------------------------------"
   ]
  },
  {
   "cell_type": "markdown",
   "metadata": {},
   "source": [
    "## libraries importing "
   ]
  },
  {
   "cell_type": "code",
   "execution_count": 167,
   "metadata": {},
   "outputs": [],
   "source": [
    "import os\n",
    "import pandas as pd\n",
    "import numpy as np\n",
    "import matplotlib.pyplot as plt"
   ]
  },
  {
   "cell_type": "markdown",
   "metadata": {},
   "source": [
    "## shuffling function"
   ]
  },
  {
   "cell_type": "code",
   "execution_count": 168,
   "metadata": {},
   "outputs": [],
   "source": [
    "#Not used because i used the random state in train_test_split\n",
    "\n",
    "def shuffle_in_unison(a, b):\n",
    "    assert len(a) == len(b)\n",
    "    shuffled_a = np.empty(a.shape, dtype=a.dtype)\n",
    "    shuffled_b = np.empty(b.shape, dtype=b.dtype)\n",
    "    permutation = np.random.permutation(len(a))\n",
    "    for old_index, new_index in enumerate(permutation):\n",
    "        shuffled_a[new_index] = a[old_index]\n",
    "        shuffled_b[new_index] = b[old_index]\n",
    "    return shuffled_a, shuffled_b"
   ]
  },
  {
   "cell_type": "markdown",
   "metadata": {},
   "source": [
    "## load data"
   ]
  },
  {
   "cell_type": "code",
   "execution_count": 169,
   "metadata": {},
   "outputs": [
    {
     "data": {
      "text/html": [
       "<div>\n",
       "<style scoped>\n",
       "    .dataframe tbody tr th:only-of-type {\n",
       "        vertical-align: middle;\n",
       "    }\n",
       "\n",
       "    .dataframe tbody tr th {\n",
       "        vertical-align: top;\n",
       "    }\n",
       "\n",
       "    .dataframe thead th {\n",
       "        text-align: right;\n",
       "    }\n",
       "</style>\n",
       "<table border=\"1\" class=\"dataframe\">\n",
       "  <thead>\n",
       "    <tr style=\"text-align: right;\">\n",
       "      <th></th>\n",
       "      <th>1</th>\n",
       "      <th>2</th>\n",
       "      <th>3</th>\n",
       "      <th>4</th>\n",
       "      <th>5</th>\n",
       "      <th>6</th>\n",
       "      <th>7</th>\n",
       "      <th>8</th>\n",
       "      <th>9</th>\n",
       "      <th>10</th>\n",
       "      <th>...</th>\n",
       "      <th>41</th>\n",
       "      <th>42</th>\n",
       "      <th>43</th>\n",
       "      <th>44</th>\n",
       "      <th>45</th>\n",
       "      <th>46</th>\n",
       "      <th>47</th>\n",
       "      <th>48</th>\n",
       "      <th>49</th>\n",
       "      <th>50</th>\n",
       "    </tr>\n",
       "    <tr>\n",
       "      <th>0</th>\n",
       "      <th></th>\n",
       "      <th></th>\n",
       "      <th></th>\n",
       "      <th></th>\n",
       "      <th></th>\n",
       "      <th></th>\n",
       "      <th></th>\n",
       "      <th></th>\n",
       "      <th></th>\n",
       "      <th></th>\n",
       "      <th></th>\n",
       "      <th></th>\n",
       "      <th></th>\n",
       "      <th></th>\n",
       "      <th></th>\n",
       "      <th></th>\n",
       "      <th></th>\n",
       "      <th></th>\n",
       "      <th></th>\n",
       "      <th></th>\n",
       "      <th></th>\n",
       "    </tr>\n",
       "  </thead>\n",
       "  <tbody>\n",
       "    <tr>\n",
       "      <th>1</th>\n",
       "      <td>-0.435298</td>\n",
       "      <td>-0.538602</td>\n",
       "      <td>-9.401395</td>\n",
       "      <td>2.282358</td>\n",
       "      <td>0.467554</td>\n",
       "      <td>-4.655254</td>\n",
       "      <td>2.592685</td>\n",
       "      <td>4.457380</td>\n",
       "      <td>-13.362630</td>\n",
       "      <td>-4.185858</td>\n",
       "      <td>...</td>\n",
       "      <td>10.200600</td>\n",
       "      <td>10.765630</td>\n",
       "      <td>-3.518332</td>\n",
       "      <td>3.643454</td>\n",
       "      <td>1.771338</td>\n",
       "      <td>5.155323</td>\n",
       "      <td>-0.201008</td>\n",
       "      <td>-0.585196</td>\n",
       "      <td>8.983210</td>\n",
       "      <td>5.456460</td>\n",
       "    </tr>\n",
       "    <tr>\n",
       "      <th>1</th>\n",
       "      <td>1.912942</td>\n",
       "      <td>-11.208570</td>\n",
       "      <td>1.610712</td>\n",
       "      <td>-7.747005</td>\n",
       "      <td>3.786808</td>\n",
       "      <td>6.374994</td>\n",
       "      <td>-5.350169</td>\n",
       "      <td>-0.126560</td>\n",
       "      <td>-5.693944</td>\n",
       "      <td>7.006273</td>\n",
       "      <td>...</td>\n",
       "      <td>-2.069554</td>\n",
       "      <td>1.542221</td>\n",
       "      <td>-6.087274</td>\n",
       "      <td>7.559115</td>\n",
       "      <td>3.935657</td>\n",
       "      <td>-8.199338</td>\n",
       "      <td>6.974332</td>\n",
       "      <td>6.306189</td>\n",
       "      <td>-2.471169</td>\n",
       "      <td>-2.061228</td>\n",
       "    </tr>\n",
       "    <tr>\n",
       "      <th>1</th>\n",
       "      <td>5.897088</td>\n",
       "      <td>5.999105</td>\n",
       "      <td>-7.531619</td>\n",
       "      <td>4.056021</td>\n",
       "      <td>-5.932660</td>\n",
       "      <td>-0.647524</td>\n",
       "      <td>-7.798974</td>\n",
       "      <td>-9.536466</td>\n",
       "      <td>8.560540</td>\n",
       "      <td>4.360957</td>\n",
       "      <td>...</td>\n",
       "      <td>-2.638064</td>\n",
       "      <td>-2.550763</td>\n",
       "      <td>6.675256</td>\n",
       "      <td>4.601664</td>\n",
       "      <td>-4.600989</td>\n",
       "      <td>9.722222</td>\n",
       "      <td>8.883898</td>\n",
       "      <td>2.514181</td>\n",
       "      <td>-1.126475</td>\n",
       "      <td>-17.562190</td>\n",
       "    </tr>\n",
       "    <tr>\n",
       "      <th>1</th>\n",
       "      <td>15.592950</td>\n",
       "      <td>-0.093184</td>\n",
       "      <td>-6.866995</td>\n",
       "      <td>4.628330</td>\n",
       "      <td>-10.680960</td>\n",
       "      <td>5.621610</td>\n",
       "      <td>9.534383</td>\n",
       "      <td>8.213895</td>\n",
       "      <td>-10.483550</td>\n",
       "      <td>6.944374</td>\n",
       "      <td>...</td>\n",
       "      <td>-5.929262</td>\n",
       "      <td>0.489708</td>\n",
       "      <td>8.019210</td>\n",
       "      <td>12.223580</td>\n",
       "      <td>3.109499</td>\n",
       "      <td>6.980562</td>\n",
       "      <td>9.161245</td>\n",
       "      <td>-3.903404</td>\n",
       "      <td>6.825863</td>\n",
       "      <td>3.313812</td>\n",
       "    </tr>\n",
       "    <tr>\n",
       "      <th>1</th>\n",
       "      <td>1.234218</td>\n",
       "      <td>-2.637812</td>\n",
       "      <td>23.040220</td>\n",
       "      <td>10.372090</td>\n",
       "      <td>5.713188</td>\n",
       "      <td>-1.980758</td>\n",
       "      <td>-0.300838</td>\n",
       "      <td>6.167769</td>\n",
       "      <td>2.798716</td>\n",
       "      <td>11.084750</td>\n",
       "      <td>...</td>\n",
       "      <td>2.501338</td>\n",
       "      <td>-9.814216</td>\n",
       "      <td>-0.237088</td>\n",
       "      <td>-4.137264</td>\n",
       "      <td>0.509947</td>\n",
       "      <td>-7.609169</td>\n",
       "      <td>-7.571899</td>\n",
       "      <td>0.018865</td>\n",
       "      <td>-16.908430</td>\n",
       "      <td>6.109299</td>\n",
       "    </tr>\n",
       "    <tr>\n",
       "      <th>...</th>\n",
       "      <td>...</td>\n",
       "      <td>...</td>\n",
       "      <td>...</td>\n",
       "      <td>...</td>\n",
       "      <td>...</td>\n",
       "      <td>...</td>\n",
       "      <td>...</td>\n",
       "      <td>...</td>\n",
       "      <td>...</td>\n",
       "      <td>...</td>\n",
       "      <td>...</td>\n",
       "      <td>...</td>\n",
       "      <td>...</td>\n",
       "      <td>...</td>\n",
       "      <td>...</td>\n",
       "      <td>...</td>\n",
       "      <td>...</td>\n",
       "      <td>...</td>\n",
       "      <td>...</td>\n",
       "      <td>...</td>\n",
       "      <td>...</td>\n",
       "    </tr>\n",
       "    <tr>\n",
       "      <th>-1</th>\n",
       "      <td>-4.734496</td>\n",
       "      <td>12.180270</td>\n",
       "      <td>-0.985647</td>\n",
       "      <td>-0.036533</td>\n",
       "      <td>3.026102</td>\n",
       "      <td>8.196070</td>\n",
       "      <td>-3.047794</td>\n",
       "      <td>-4.254242</td>\n",
       "      <td>-2.903686</td>\n",
       "      <td>7.444707</td>\n",
       "      <td>...</td>\n",
       "      <td>-1.256349</td>\n",
       "      <td>-10.370470</td>\n",
       "      <td>-5.268663</td>\n",
       "      <td>12.043680</td>\n",
       "      <td>-5.422183</td>\n",
       "      <td>-4.628615</td>\n",
       "      <td>14.214270</td>\n",
       "      <td>-1.188761</td>\n",
       "      <td>-5.910715</td>\n",
       "      <td>-12.387830</td>\n",
       "    </tr>\n",
       "    <tr>\n",
       "      <th>-1</th>\n",
       "      <td>-0.500554</td>\n",
       "      <td>2.316130</td>\n",
       "      <td>-0.596127</td>\n",
       "      <td>6.876940</td>\n",
       "      <td>-2.019650</td>\n",
       "      <td>13.607870</td>\n",
       "      <td>-4.566432</td>\n",
       "      <td>1.609356</td>\n",
       "      <td>-7.155031</td>\n",
       "      <td>-8.618190</td>\n",
       "      <td>...</td>\n",
       "      <td>-0.121615</td>\n",
       "      <td>6.637618</td>\n",
       "      <td>-4.348457</td>\n",
       "      <td>0.490303</td>\n",
       "      <td>5.480975</td>\n",
       "      <td>-8.163212</td>\n",
       "      <td>3.166192</td>\n",
       "      <td>-3.078238</td>\n",
       "      <td>0.066750</td>\n",
       "      <td>5.723327</td>\n",
       "    </tr>\n",
       "    <tr>\n",
       "      <th>-1</th>\n",
       "      <td>7.624658</td>\n",
       "      <td>-1.395110</td>\n",
       "      <td>-3.487807</td>\n",
       "      <td>6.589860</td>\n",
       "      <td>8.778849</td>\n",
       "      <td>6.405326</td>\n",
       "      <td>-9.256895</td>\n",
       "      <td>-12.848770</td>\n",
       "      <td>4.668293</td>\n",
       "      <td>7.350127</td>\n",
       "      <td>...</td>\n",
       "      <td>-7.576569</td>\n",
       "      <td>7.547803</td>\n",
       "      <td>-8.511807</td>\n",
       "      <td>0.077039</td>\n",
       "      <td>2.374087</td>\n",
       "      <td>-11.083120</td>\n",
       "      <td>8.842909</td>\n",
       "      <td>-0.829944</td>\n",
       "      <td>-10.648250</td>\n",
       "      <td>1.849014</td>\n",
       "    </tr>\n",
       "    <tr>\n",
       "      <th>-1</th>\n",
       "      <td>-9.566280</td>\n",
       "      <td>-9.683400</td>\n",
       "      <td>9.934707</td>\n",
       "      <td>9.157923</td>\n",
       "      <td>-2.305643</td>\n",
       "      <td>-2.003260</td>\n",
       "      <td>-8.582983</td>\n",
       "      <td>-7.527874</td>\n",
       "      <td>-12.246460</td>\n",
       "      <td>0.729703</td>\n",
       "      <td>...</td>\n",
       "      <td>6.653793</td>\n",
       "      <td>13.644700</td>\n",
       "      <td>11.679300</td>\n",
       "      <td>-8.040675</td>\n",
       "      <td>-9.012670</td>\n",
       "      <td>8.564898</td>\n",
       "      <td>2.852969</td>\n",
       "      <td>-7.169794</td>\n",
       "      <td>4.882407</td>\n",
       "      <td>-6.360029</td>\n",
       "    </tr>\n",
       "    <tr>\n",
       "      <th>-1</th>\n",
       "      <td>-4.384512</td>\n",
       "      <td>-19.407490</td>\n",
       "      <td>4.121781</td>\n",
       "      <td>-20.924590</td>\n",
       "      <td>12.753100</td>\n",
       "      <td>-0.750831</td>\n",
       "      <td>-10.698130</td>\n",
       "      <td>10.141080</td>\n",
       "      <td>-1.852206</td>\n",
       "      <td>4.063518</td>\n",
       "      <td>...</td>\n",
       "      <td>8.231252</td>\n",
       "      <td>-8.680118</td>\n",
       "      <td>-2.493131</td>\n",
       "      <td>6.116143</td>\n",
       "      <td>-1.357597</td>\n",
       "      <td>9.914738</td>\n",
       "      <td>-13.986770</td>\n",
       "      <td>2.747491</td>\n",
       "      <td>-11.719710</td>\n",
       "      <td>-2.743925</td>\n",
       "    </tr>\n",
       "  </tbody>\n",
       "</table>\n",
       "<p>10000 rows × 50 columns</p>\n",
       "</div>"
      ],
      "text/plain": [
       "           1          2          3          4          5          6   \\\n",
       "0                                                                      \n",
       " 1  -0.435298  -0.538602  -9.401395   2.282358   0.467554  -4.655254   \n",
       " 1   1.912942 -11.208570   1.610712  -7.747005   3.786808   6.374994   \n",
       " 1   5.897088   5.999105  -7.531619   4.056021  -5.932660  -0.647524   \n",
       " 1  15.592950  -0.093184  -6.866995   4.628330 -10.680960   5.621610   \n",
       " 1   1.234218  -2.637812  23.040220  10.372090   5.713188  -1.980758   \n",
       "..        ...        ...        ...        ...        ...        ...   \n",
       "-1  -4.734496  12.180270  -0.985647  -0.036533   3.026102   8.196070   \n",
       "-1  -0.500554   2.316130  -0.596127   6.876940  -2.019650  13.607870   \n",
       "-1   7.624658  -1.395110  -3.487807   6.589860   8.778849   6.405326   \n",
       "-1  -9.566280  -9.683400   9.934707   9.157923  -2.305643  -2.003260   \n",
       "-1  -4.384512 -19.407490   4.121781 -20.924590  12.753100  -0.750831   \n",
       "\n",
       "           7          8          9          10  ...         41         42  \\\n",
       "0                                               ...                         \n",
       " 1   2.592685   4.457380 -13.362630  -4.185858  ...  10.200600  10.765630   \n",
       " 1  -5.350169  -0.126560  -5.693944   7.006273  ...  -2.069554   1.542221   \n",
       " 1  -7.798974  -9.536466   8.560540   4.360957  ...  -2.638064  -2.550763   \n",
       " 1   9.534383   8.213895 -10.483550   6.944374  ...  -5.929262   0.489708   \n",
       " 1  -0.300838   6.167769   2.798716  11.084750  ...   2.501338  -9.814216   \n",
       "..        ...        ...        ...        ...  ...        ...        ...   \n",
       "-1  -3.047794  -4.254242  -2.903686   7.444707  ...  -1.256349 -10.370470   \n",
       "-1  -4.566432   1.609356  -7.155031  -8.618190  ...  -0.121615   6.637618   \n",
       "-1  -9.256895 -12.848770   4.668293   7.350127  ...  -7.576569   7.547803   \n",
       "-1  -8.582983  -7.527874 -12.246460   0.729703  ...   6.653793  13.644700   \n",
       "-1 -10.698130  10.141080  -1.852206   4.063518  ...   8.231252  -8.680118   \n",
       "\n",
       "           43         44        45         46         47        48         49  \\\n",
       "0                                                                               \n",
       " 1  -3.518332   3.643454  1.771338   5.155323  -0.201008 -0.585196   8.983210   \n",
       " 1  -6.087274   7.559115  3.935657  -8.199338   6.974332  6.306189  -2.471169   \n",
       " 1   6.675256   4.601664 -4.600989   9.722222   8.883898  2.514181  -1.126475   \n",
       " 1   8.019210  12.223580  3.109499   6.980562   9.161245 -3.903404   6.825863   \n",
       " 1  -0.237088  -4.137264  0.509947  -7.609169  -7.571899  0.018865 -16.908430   \n",
       "..        ...        ...       ...        ...        ...       ...        ...   \n",
       "-1  -5.268663  12.043680 -5.422183  -4.628615  14.214270 -1.188761  -5.910715   \n",
       "-1  -4.348457   0.490303  5.480975  -8.163212   3.166192 -3.078238   0.066750   \n",
       "-1  -8.511807   0.077039  2.374087 -11.083120   8.842909 -0.829944 -10.648250   \n",
       "-1  11.679300  -8.040675 -9.012670   8.564898   2.852969 -7.169794   4.882407   \n",
       "-1  -2.493131   6.116143 -1.357597   9.914738 -13.986770  2.747491 -11.719710   \n",
       "\n",
       "           50  \n",
       "0              \n",
       " 1   5.456460  \n",
       " 1  -2.061228  \n",
       " 1 -17.562190  \n",
       " 1   3.313812  \n",
       " 1   6.109299  \n",
       "..        ...  \n",
       "-1 -12.387830  \n",
       "-1   5.723327  \n",
       "-1   1.849014  \n",
       "-1  -6.360029  \n",
       "-1  -2.743925  \n",
       "\n",
       "[10000 rows x 50 columns]"
      ]
     },
     "execution_count": 169,
     "metadata": {},
     "output_type": "execute_result"
    }
   ],
   "source": [
    "df1=pd.read_csv('positive.dat',sep=\"\\s+\",index_col=0,header=None)\n",
    "for c in df1.columns.values:\n",
    "    df1[c] = df1[c].apply(lambda x: float(str(x).split(':')[1]))\n",
    "df2=pd.read_csv('negative.dat',sep=\"\\s+\",index_col=0,header=None)\n",
    "for c in df2.columns.values:\n",
    "    df2[c] = df2[c].apply(lambda x: float(str(x).split(':')[1]))\n",
    "#df2.tail()\n",
    "frames = [df1, df2]\n",
    "result_df = pd.concat(frames)\n",
    "result_df"
   ]
  },
  {
   "cell_type": "markdown",
   "metadata": {},
   "source": [
    "## separating into X,y"
   ]
  },
  {
   "cell_type": "code",
   "execution_count": 172,
   "metadata": {},
   "outputs": [],
   "source": [
    "X=np.asarray(result_df)\n",
    "s=(5000)\n",
    "y1=np.ones(s)\n",
    "y2=np.ones(s)*-1\n",
    "y=np.concatenate((y1, y2))\n",
    "# X1,y1=shuffle_in_unison(X, y)\n",
    "# print(X1,X1.shape)\n",
    "# print(y1,y1.shape)"
   ]
  },
  {
   "cell_type": "markdown",
   "metadata": {},
   "source": [
    "## divide the data as train and test"
   ]
  },
  {
   "cell_type": "code",
   "execution_count": 173,
   "metadata": {},
   "outputs": [],
   "source": [
    "from sklearn.model_selection import train_test_split\n",
    "from sklearn import svm\n",
    "X_train,X_test,y_train,y_test=train_test_split(X,y,test_size=0.5,random_state=0)"
   ]
  },
  {
   "cell_type": "markdown",
   "metadata": {},
   "source": [
    "## Minimum test error  "
   ]
  },
  {
   "cell_type": "code",
   "execution_count": 174,
   "metadata": {},
   "outputs": [
    {
     "data": {
      "text/plain": [
       "0.838"
      ]
     },
     "execution_count": 174,
     "metadata": {},
     "output_type": "execute_result"
    }
   ],
   "source": [
    "classifier=svm.SVC(kernel='poly',gamma=0.0004,C=0.1).fit(X_train,y_train)\n",
    "#classifier.fit(X_train, y_train).score(X_train, y_train)\n",
    "y_predict_test=classifier.predict(X_test)\n",
    "y_predict_train=classifier.predict(X_train)\n",
    "classifier.score(X_test,y_test)"
   ]
  },
  {
   "cell_type": "code",
   "execution_count": 175,
   "metadata": {},
   "outputs": [
    {
     "data": {
      "text/plain": [
       "0.8886"
      ]
     },
     "execution_count": 175,
     "metadata": {},
     "output_type": "execute_result"
    }
   ],
   "source": [
    "classifier.score(X_train,y_train)"
   ]
  },
  {
   "cell_type": "code",
   "execution_count": 176,
   "metadata": {},
   "outputs": [
    {
     "name": "stdout",
     "output_type": "stream",
     "text": [
      "              precision    recall  f1-score   support\n",
      "\n",
      "        -1.0       0.85      0.83      0.84      2518\n",
      "         1.0       0.83      0.85      0.84      2482\n",
      "\n",
      "    accuracy                           0.84      5000\n",
      "   macro avg       0.84      0.84      0.84      5000\n",
      "weighted avg       0.84      0.84      0.84      5000\n",
      "\n",
      "              precision    recall  f1-score   support\n",
      "\n",
      "        -1.0       0.89      0.88      0.89      2482\n",
      "         1.0       0.89      0.89      0.89      2518\n",
      "\n",
      "    accuracy                           0.89      5000\n",
      "   macro avg       0.89      0.89      0.89      5000\n",
      "weighted avg       0.89      0.89      0.89      5000\n",
      "\n"
     ]
    }
   ],
   "source": [
    "#results\n",
    "from sklearn.metrics import classification_report\n",
    "print(classification_report(y_test,y_predict_test))\n",
    "print(classification_report(y_train,y_predict_train))"
   ]
  },
  {
   "cell_type": "markdown",
   "metadata": {},
   "source": [
    "## plotting test accuracy for different training set size"
   ]
  },
  {
   "cell_type": "code",
   "execution_count": 177,
   "metadata": {},
   "outputs": [
    {
     "data": {
      "image/png": "[encoded data removed]",
      "text/plain": [
       "<Figure size 432x288 with 1 Axes>"
      ]
     },
     "metadata": {
      "needs_background": "light"
     },
     "output_type": "display_data"
    }
   ],
   "source": [
    "testt_size=[0.9,0.8,0.7,0.6,0.5]\n",
    "training_size=[1000,2000,3000,4000,5000]\n",
    "test_accuracy=[]\n",
    "for i in range (5):\n",
    "    X_train,X_test,y_train,y_test=train_test_split(X,y,test_size=testt_size[i],random_state=0)\n",
    "    classifier=svm.SVC(kernel='poly',gamma=0.0004,C=0.1).fit(X_train,y_train)\n",
    "    test_accuracy.append(classifier.score(X_test,y_test))\n",
    "index_max_accuracy = max(range(len(test_accuracy)), key=test_accuracy.__getitem__)\n",
    "plt.plot(training_size,test_accuracy,'ro')\n",
    "\n",
    "#max test accuracy will be in blue and the other points in red\n",
    "\n",
    "plt.plot(training_size[index_max_accuracy],test_accuracy[index_max_accuracy],'bs')\n",
    "plt.ylabel('test_accuracy')\n",
    "plt.xlabel('training_set_size')\n",
    "plt.show()"
   ]
  },
  {
   "cell_type": "markdown",
   "metadata": {},
   "source": [
    "## plotting training accuracy for different training set size"
   ]
  },
  {
   "cell_type": "code",
   "execution_count": 178,
   "metadata": {},
   "outputs": [
    {
     "data": {
      "image/png": "[encoded data removed]",
      "text/plain": [
       "<Figure size 432x288 with 1 Axes>"
      ]
     },
     "metadata": {
      "needs_background": "light"
     },
     "output_type": "display_data"
    }
   ],
   "source": [
    "testt_size=[0.9,0.8,0.7,0.6,0.5]\n",
    "training_size=[1000,2000,3000,4000,5000]\n",
    "training_accuracy=[]\n",
    "for i in range (5):\n",
    "    X_train,X_test,y_train,y_test=train_test_split(X,y,test_size=testt_size[i],random_state=0)\n",
    "    classifier=svm.SVC(kernel='poly',gamma=0.0004,C=0.1).fit(X_train,y_train)\n",
    "    training_accuracy.append(classifier.score(X_train,y_train))\n",
    "index_max_accuracy = max(range(len(training_accuracy)), key=training_accuracy.__getitem__)\n",
    "plt.plot(training_size,training_accuracy,'ro')\n",
    "\n",
    "#max training accuracy will be in blue and the other points in red\n",
    "\n",
    "plt.plot(training_size[index_max_accuracy],training_accuracy[index_max_accuracy],'bs')\n",
    "plt.ylabel('training_accuracy')\n",
    "plt.xlabel('training_set_size')\n",
    "plt.show()"
   ]
  },
  {
   "cell_type": "markdown",
   "metadata": {},
   "source": [
    "## Changing  Parameter \"C\""
   ]
  },
  {
   "cell_type": "code",
   "execution_count": 179,
   "metadata": {},
   "outputs": [
    {
     "data": {
      "image/png": "[encoded data removed]",
      "text/plain": [
       "<Figure size 432x288 with 1 Axes>"
      ]
     },
     "metadata": {
      "needs_background": "light"
     },
     "output_type": "display_data"
    }
   ],
   "source": [
    "C=[0.5,0.01,0.1,1,2]\n",
    "test_accuracy=[]\n",
    "for i in range (5):\n",
    "    X_train,X_test,y_train,y_test=train_test_split(X,y,test_size=0.5,random_state=0)\n",
    "    classifier=svm.SVC(kernel='poly',gamma=0.0004,C=C[i]).fit(X_train,y_train)\n",
    "    test_accuracy.append(classifier.score(X_test,y_test))\n",
    "plt.plot(C,test_accuracy,'ro')\n",
    "index_max_accuracy = max(range(len(test_accuracy)), key=test_accuracy.__getitem__)\n",
    "\n",
    "#max test accuracy will be in blue and the other points in red\n",
    "\n",
    "plt.plot(C[index_max_accuracy],test_accuracy[index_max_accuracy],'bs')\n",
    "plt.ylabel('test_accuracy')\n",
    "plt.xlabel('Penalty C')\n",
    "plt.show()"
   ]
  },
  {
   "cell_type": "markdown",
   "metadata": {},
   "source": [
    "## Changing Parameter \"gamma\""
   ]
  },
  {
   "cell_type": "code",
   "execution_count": 180,
   "metadata": {},
   "outputs": [
    {
     "data": {
      "image/png": "[encoded data removed]",
      "text/plain": [
       "<Figure size 432x288 with 1 Axes>"
      ]
     },
     "metadata": {
      "needs_background": "light"
     },
     "output_type": "display_data"
    }
   ],
   "source": [
    "gamma=[0.0004,0.001,0.1,1,4]\n",
    "test_accuracy=[]\n",
    "for i in range (5):\n",
    "    X_train,X_test,y_train,y_test=train_test_split(X,y,test_size=0.5,random_state=0)\n",
    "    classifier=svm.SVC(kernel='poly',gamma=gamma[i],C=0.1).fit(X_train,y_train)\n",
    "    test_accuracy.append(classifier.score(X_test,y_test))\n",
    "plt.plot(gamma,test_accuracy,'ro')\n",
    "index_max_accuracy = max(range(len(test_accuracy)), key=test_accuracy.__getitem__)\n",
    "\n",
    "#max test accuracy will be in blue and the other points in red\n",
    "\n",
    "plt.plot(gamma[index_max_accuracy],test_accuracy[index_max_accuracy],'bs')\n",
    "plt.ylabel('test_accuracy')\n",
    "plt.xlabel('gamma')\n",
    "plt.show()"
   ]
  },
  {
   "cell_type": "code",
   "execution_count": null,
   "metadata": {},
   "outputs": [],
   "source": []
  }
 ],
 "metadata": {
  "kernelspec": {
   "display_name": "Python 3",
   "language": "python",
   "name": "python3"
  },
  "language_info": {
   "codemirror_mode": {
    "name": "ipython",
    "version": 3
   },
   "file_extension": ".py",
   "mimetype": "text/x-python",
   "name": "python",
   "nbconvert_exporter": "python",
   "pygments_lexer": "ipython3",
   "version": "3.8.0"
  }
 },
 "nbformat": 4,
 "nbformat_minor": 4
}
